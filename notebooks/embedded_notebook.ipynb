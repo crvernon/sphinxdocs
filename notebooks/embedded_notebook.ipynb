{
 "cells": [
  {
   "cell_type": "markdown",
   "id": "527e79b8-4f81-4fbe-93f9-401b47754d17",
   "metadata": {},
   "source": [
    "> ## Beans have a soul.  - Pythagoras"
   ]
  },
  {
   "cell_type": "markdown",
   "id": "d36b3afe-bda6-480d-8304-056bc0ad579f",
   "metadata": {},
   "source": [
    "### Types of beans"
   ]
  },
  {
   "cell_type": "code",
   "execution_count": 2,
   "id": "785ae1bb-4010-4df2-8d60-6f60d8e345c2",
   "metadata": {},
   "outputs": [
    {
     "data": {
      "text/plain": [
       "str"
      ]
     },
     "execution_count": 2,
     "metadata": {},
     "output_type": "execute_result"
    }
   ],
   "source": [
    "string_bean = 'bean'\n",
    "\n",
    "type(string_bean)\n"
   ]
  },
  {
   "cell_type": "code",
   "execution_count": 51,
   "id": "0ea690bf-ef24-4b0c-883b-7ec90f8cbde4",
   "metadata": {},
   "outputs": [],
   "source": [
    "a = \" unsanlaeecb\""
   ]
  },
  {
   "cell_type": "code",
   "execution_count": 52,
   "id": "cdd2c9a9-25f8-4847-9b92-b6bc7eff4b80",
   "metadata": {},
   "outputs": [
    {
     "name": "stdout",
     "output_type": "stream",
     "text": [
      "b\n",
      "e\n",
      "a\n",
      "n\n",
      "s\n"
     ]
    }
   ],
   "source": [
    "for i in range(len(a)-1, 1, -1):\n",
    "#     print(i%2)\n",
    "    \n",
    "    if i%2 == 0:\n",
    "        print(a[i])\n",
    "    \n",
    "\n",
    "    "
   ]
  },
  {
   "cell_type": "code",
   "execution_count": null,
   "id": "cb1e385d-b4ec-4f97-8dd9-fbf1dd5c6299",
   "metadata": {},
   "outputs": [],
   "source": []
  }
 ],
 "metadata": {
  "kernelspec": {
   "display_name": "py3.9.4_ml",
   "language": "python",
   "name": "py3.9.4_ml"
  },
  "language_info": {
   "codemirror_mode": {
    "name": "ipython",
    "version": 3
   },
   "file_extension": ".py",
   "mimetype": "text/x-python",
   "name": "python",
   "nbconvert_exporter": "python",
   "pygments_lexer": "ipython3",
   "version": "3.9.4"
  }
 },
 "nbformat": 4,
 "nbformat_minor": 5
}
